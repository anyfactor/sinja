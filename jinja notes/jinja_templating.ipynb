{
 "cells": [
  {
   "cell_type": "code",
   "execution_count": 1,
   "metadata": {},
   "outputs": [],
   "source": [
    "from jinja2 import Environment, FileSystemLoader"
   ]
  },
  {
   "cell_type": "markdown",
   "metadata": {},
   "source": [
    "# Basics of Template"
   ]
  },
  {
   "cell_type": "code",
   "execution_count": 2,
   "metadata": {},
   "outputs": [],
   "source": [
    "# need to have a `templates` directory\n",
    "# which will contain our templates\n",
    "# templates can be ANY files; not just HTML. Jinja templating is like a fstring on steroids.\n",
    "file_loader =  FileSystemLoader('templates')\n",
    "env = Environment(loader=file_loader)"
   ]
  },
  {
   "cell_type": "code",
   "execution_count": 10,
   "metadata": {},
   "outputs": [
    {
     "name": "stdout",
     "output_type": "stream",
     "text": [
      "<h1>This is from the template</h1>\n"
     ]
    }
   ],
   "source": [
    "# template contains no variables; just static text\n",
    "template = env.get_template('no_vars.html')\n",
    "output = template.render()\n",
    "# Simple output without variable\n",
    "print(output)"
   ]
  },
  {
   "cell_type": "code",
   "execution_count": 11,
   "metadata": {},
   "outputs": [
    {
     "name": "stdout",
     "output_type": "stream",
     "text": [
      "<title>Name of the author: Anyfactor.</title>\n"
     ]
    }
   ],
   "source": [
    "# template contains variable {{author}}\n",
    "# <title>Name of the author: {{ author }}.</title>\n",
    "template = env.get_template('author_var.html')\n",
    "output = template.render(author=\"Anyfactor\")\n",
    "# Simple output without variable\n",
    "print(output)"
   ]
  },
  {
   "cell_type": "code",
   "execution_count": 3,
   "metadata": {},
   "outputs": [
    {
     "name": "stdout",
     "output_type": "stream",
     "text": [
      "<div>\n",
      "    <p>Name: Anyfactor</p>\n",
      "    <p>Age: 69</p>\n",
      "    <p>Gender: a</p>\n",
      "</div>\n"
     ]
    }
   ],
   "source": [
    "# you can also pass a dictionary and have the template parse and access the values\n",
    "data = {\n",
    "    \"name\": \"Anyfactor\",\n",
    "    \"age\": \"69\",\n",
    "    \"gender\": \"a\"\n",
    "}\n",
    "template = env.get_template('dictionary_var.html')\n",
    "output = template.render(data=data)\n",
    "# Simple output without variable\n",
    "print(output)"
   ]
  },
  {
   "cell_type": "markdown",
   "metadata": {},
   "source": [
    "# Template Control Structures"
   ]
  },
  {
   "cell_type": "code",
   "execution_count": 9,
   "metadata": {},
   "outputs": [
    {
     "name": "stdout",
     "output_type": "stream",
     "text": [
      "<div>\n",
      "    <p><strong>Stranger:</strong>M</p>\n",
      "    <p><strong>You:</strong>\n",
      "        \n",
      "        *You have left chat*\n",
      "        </p>\n",
      "</div>\n"
     ]
    }
   ],
   "source": [
    "# Conditionals\n",
    "'''\n",
    "{% if true %}\n",
    "  This is True\n",
    "{% else %}\n",
    "  This is False\n",
    "{% endif %}\n",
    "'''\n",
    "template = env.get_template('conditionals.html')\n",
    "output = template.render(response=False)\n",
    "# Simple output without variable\n",
    "print(output)"
   ]
  },
  {
   "cell_type": "code",
   "execution_count": 11,
   "metadata": {},
   "outputs": [],
   "source": [
    "# Conditionals\n",
    "'''\n",
    "{% for color in colors %}\n",
    "  {{ color }}\n",
    "{{% endfor %}}\n",
    "'''\n",
    "template = env.get_template('forloop.html')\n",
    "colors = [\"R\", \"G\", \"B\"]\n",
    "output = template.render(colors=colors)\n",
    "# Simple output without variable\n",
    "print(output)"
   ]
  },
  {
   "cell_type": "markdown",
   "metadata": {},
   "source": [
    "# Template Inheritence\n",
    "Allows you to extend and include other templated files"
   ]
  },
  {
   "cell_type": "code",
   "execution_count": 7,
   "metadata": {},
   "outputs": [
    {
     "name": "stdout",
     "output_type": "stream",
     "text": [
      "<html>\n",
      "    <head>\n",
      "    <title>\n",
      "        Page Title\n",
      "    </title>\n",
      "</head>\n",
      "    <body></body>\n",
      "</html>\n"
     ]
    }
   ],
   "source": [
    "# Include\n",
    "# {% include 'header.html' %}\n",
    "# title variable > base.html > include statement > header.html > variable title rendered\n",
    "template = env.get_template('base_include.html') # BASE TEMPLATE; not header\n",
    "output = template.render(title=\"Page Title\")\n",
    "print(output)"
   ]
  },
  {
   "cell_type": "code",
   "execution_count": 4,
   "metadata": {},
   "outputs": [
    {
     "name": "stdout",
     "output_type": "stream",
     "text": [
      "<html>\n",
      "    <head>\n",
      "    <title>\n",
      "        Page Title\n",
      "    </title>\n",
      "</head>\n",
      "    <body>\n",
      "        \n",
      "<p>lorem ipsum dolor sit</p>\n",
      "\n",
      "    </body>\n",
      "</html>\n"
     ]
    }
   ],
   "source": [
    "# Child Templates || blocks & extends\n",
    "# Child contains `extends` contain to the parent\n",
    "template = env.get_template('child.html') # CHILD TEMPLATE; not base\n",
    "# title=>base.html(include)\n",
    "# extends to base.html with block content\n",
    "# body=> child.html (extends)\n",
    "# calling child. Child = base+header \n",
    "output = template.render(title=\"Page Title\", body=\"lorem ipsum dolor sit\")\n",
    "print(output)"
   ]
  },
  {
   "cell_type": "code",
   "execution_count": null,
   "metadata": {},
   "outputs": [],
   "source": []
  }
 ],
 "metadata": {
  "interpreter": {
   "hash": "fcdac387b723dab6cabf3be3f58bcaa9a14417ae421727ee28a12c9f5deacad3"
  },
  "kernelspec": {
   "display_name": "Python 3.10.0 64-bit",
   "language": "python",
   "name": "python3"
  },
  "language_info": {
   "codemirror_mode": {
    "name": "ipython",
    "version": 3
   },
   "file_extension": ".py",
   "mimetype": "text/x-python",
   "name": "python",
   "nbconvert_exporter": "python",
   "pygments_lexer": "ipython3",
   "version": "3.10.0"
  },
  "orig_nbformat": 4
 },
 "nbformat": 4,
 "nbformat_minor": 2
}
